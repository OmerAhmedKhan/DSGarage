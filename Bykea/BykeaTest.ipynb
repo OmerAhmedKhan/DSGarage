{
 "cells": [
  {
   "cell_type": "markdown",
   "metadata": {},
   "source": [
    "# Discovery Process\n",
    "\n",
    "Let Start With some basics, provided data have only three fields of data a timestamp, travel distance and travel time. The dataset is huge, so I hope it would not be a problem to process.\n",
    "\n",
    "Let start with simple counts to have clear picture about travel parameters"
   ]
  },
  {
   "cell_type": "code",
   "execution_count": 47,
   "metadata": {},
   "outputs": [],
   "source": [
    "from matplotlib import pyplot as plt\n",
    "import pandas as pd\n",
    "import numpy as np\n",
    "\n",
    "#df = pd.read_csv('test.csv')\n",
    "df = pd.read_csv('test.csv', dtype={\"Date/Time\": object, \"Travel Distance\": np.int64, \"Travel duration\": np.int64})\n",
    "df.columns = ['date', 't_d', 't_t']\n",
    "#df.t_d.astype(np.int64)\n",
    "#df.t_t.astype(np.int64)"
   ]
  },
  {
   "cell_type": "code",
   "execution_count": 48,
   "metadata": {},
   "outputs": [
    {
     "data": {
      "text/plain": [
       "<Container object of 87 artists>"
      ]
     },
     "execution_count": 48,
     "metadata": {},
     "output_type": "execute_result"
    },
    {
     "data": {
      "image/png": "[encoded data removed]",
      "text/plain": [
       "<matplotlib.figure.Figure at 0x7fb10812c940>"
      ]
     },
     "metadata": {
      "needs_background": "light"
     },
     "output_type": "display_data"
    }
   ],
   "source": [
    "x = df.t_d.value_counts()\n",
    "plt.xticks(np.arange(min(x), max(x)+1, 5.0))\n",
    "plt.xlabel('Travel distance')\n",
    "plt.ylabel('Counts')\n",
    "plt.bar(x.index.values, x)"
   ]
  },
  {
   "cell_type": "code",
   "execution_count": 49,
   "metadata": {},
   "outputs": [
    {
     "data": {
      "text/plain": [
       "10.075625890544439"
      ]
     },
     "execution_count": 49,
     "metadata": {},
     "output_type": "execute_result"
    }
   ],
   "source": [
    "np.mean(df.t_d)"
   ]
  },
  {
   "cell_type": "markdown",
   "metadata": {},
   "source": [
    "There are 2 things to notice here\n",
    "   - The mean rides are of almost 10 units of distance\n",
    "   - The counts of provided data is forming a normal bell curve providing us intitution of normal distribution\n",
    "   - This information can be useful to find fraud detection as rides outside the 2nd standard deviation are outlier and should be investigate"
   ]
  },
  {
   "cell_type": "code",
   "execution_count": 61,
   "metadata": {},
   "outputs": [
    {
     "data": {
      "text/plain": [
       "<Container object of 171 artists>"
      ]
     },
     "execution_count": 61,
     "metadata": {},
     "output_type": "execute_result"
    },
    {
     "data": {
      "image/png": "[encoded data removed]",
      "text/plain": [
       "<matplotlib.figure.Figure at 0x7fb10b1d15c0>"
      ]
     },
     "metadata": {
      "needs_background": "light"
     },
     "output_type": "display_data"
    }
   ],
   "source": [
    "q = df.t_t.value_counts()\n",
    "# Filtering value counts greater than 10 to get a visible graph\n",
    "q = q.loc[q > 10]\n",
    "plt.xlabel('Travel time')\n",
    "plt.ylabel('Counts')\n",
    "plt.bar(q.index.values, q)\n",
    "#q.plot.bar()"
   ]
  },
  {
   "cell_type": "code",
   "execution_count": 62,
   "metadata": {},
   "outputs": [
    {
     "data": {
      "text/plain": [
       "28.833623040802237"
      ]
     },
     "execution_count": 62,
     "metadata": {},
     "output_type": "execute_result"
    }
   ],
   "source": [
    "np.mean(df.t_t)"
   ]
  },
  {
   "cell_type": "markdown",
   "metadata": {},
   "source": [
    "Same discovery points of travel distance is aplicable here, just the mean time is almost **29** units"
   ]
  },
  {
   "cell_type": "code",
   "execution_count": 63,
   "metadata": {},
   "outputs": [
    {
     "name": "stdout",
     "output_type": "stream",
     "text": [
      "Days 57\n"
     ]
    }
   ],
   "source": [
    "from datetime import datetime\n",
    "firstDate = datetime.strptime(df.date[8728], '%m/%d/%Y %H:%M:%S')\n",
    "lastDate = datetime.strptime(df.date.iloc[-1], '%m/%d/%Y %H:%M:%S')\n",
    "\n",
    "diff = lastDate - firstDate\n",
    "print(\"Days {}\".format(diff.days))"
   ]
  },
  {
   "cell_type": "markdown",
   "metadata": {},
   "source": [
    "Provided data is collected over **57** days."
   ]
  },
  {
   "cell_type": "markdown",
   "metadata": {},
   "source": [
    "Now lets find out max values of our parameters"
   ]
  },
  {
   "cell_type": "code",
   "execution_count": 64,
   "metadata": {},
   "outputs": [
    {
     "data": {
      "text/plain": [
       "88"
      ]
     },
     "execution_count": 64,
     "metadata": {},
     "output_type": "execute_result"
    }
   ],
   "source": [
    "df.t_d.max()"
   ]
  },
  {
   "cell_type": "code",
   "execution_count": 65,
   "metadata": {},
   "outputs": [
    {
     "data": {
      "text/plain": [
       "156241"
      ]
     },
     "execution_count": 65,
     "metadata": {},
     "output_type": "execute_result"
    }
   ],
   "source": [
    "df.t_t.max()"
   ]
  },
  {
   "cell_type": "markdown",
   "metadata": {},
   "source": [
    "So, the the max travel distace is 88 units and 156241 units travel time. Let find the rows for the max values"
   ]
  },
  {
   "cell_type": "code",
   "execution_count": 66,
   "metadata": {},
   "outputs": [
    {
     "data": {
      "text/plain": [
       "7"
      ]
     },
     "execution_count": 66,
     "metadata": {},
     "output_type": "execute_result"
    }
   ],
   "source": [
    "df.t_d[88]"
   ]
  },
  {
   "cell_type": "code",
   "execution_count": 67,
   "metadata": {},
   "outputs": [
    {
     "data": {
      "text/html": [
       "<div>\n",
       "<style scoped>\n",
       "    .dataframe tbody tr th:only-of-type {\n",
       "        vertical-align: middle;\n",
       "    }\n",
       "\n",
       "    .dataframe tbody tr th {\n",
       "        vertical-align: top;\n",
       "    }\n",
       "\n",
       "    .dataframe thead th {\n",
       "        text-align: right;\n",
       "    }\n",
       "</style>\n",
       "<table border=\"1\" class=\"dataframe\">\n",
       "  <thead>\n",
       "    <tr style=\"text-align: right;\">\n",
       "      <th></th>\n",
       "      <th>date</th>\n",
       "      <th>t_d</th>\n",
       "      <th>t_t</th>\n",
       "    </tr>\n",
       "  </thead>\n",
       "  <tbody>\n",
       "    <tr>\n",
       "      <th>198194</th>\n",
       "      <td>12/29/2018 00:01:55</td>\n",
       "      <td>88</td>\n",
       "      <td>220</td>\n",
       "    </tr>\n",
       "  </tbody>\n",
       "</table>\n",
       "</div>"
      ],
      "text/plain": [
       "                       date  t_d  t_t\n",
       "198194  12/29/2018 00:01:55   88  220"
      ]
     },
     "execution_count": 67,
     "metadata": {},
     "output_type": "execute_result"
    }
   ],
   "source": [
    "df.loc[df['t_d'] == 88]"
   ]
  },
  {
   "cell_type": "code",
   "execution_count": 68,
   "metadata": {},
   "outputs": [
    {
     "data": {
      "text/html": [
       "<div>\n",
       "<style scoped>\n",
       "    .dataframe tbody tr th:only-of-type {\n",
       "        vertical-align: middle;\n",
       "    }\n",
       "\n",
       "    .dataframe tbody tr th {\n",
       "        vertical-align: top;\n",
       "    }\n",
       "\n",
       "    .dataframe thead th {\n",
       "        text-align: right;\n",
       "    }\n",
       "</style>\n",
       "<table border=\"1\" class=\"dataframe\">\n",
       "  <thead>\n",
       "    <tr style=\"text-align: right;\">\n",
       "      <th></th>\n",
       "      <th>date</th>\n",
       "      <th>t_d</th>\n",
       "      <th>t_t</th>\n",
       "    </tr>\n",
       "  </thead>\n",
       "  <tbody>\n",
       "    <tr>\n",
       "      <th>359705</th>\n",
       "      <td>01/20/2019 22:23:22</td>\n",
       "      <td>8</td>\n",
       "      <td>156241</td>\n",
       "    </tr>\n",
       "  </tbody>\n",
       "</table>\n",
       "</div>"
      ],
      "text/plain": [
       "                       date  t_d     t_t\n",
       "359705  01/20/2019 22:23:22    8  156241"
      ]
     },
     "execution_count": 68,
     "metadata": {},
     "output_type": "execute_result"
    }
   ],
   "source": [
    "df.loc[df['t_t'] == 156241]"
   ]
  },
  {
   "cell_type": "markdown",
   "metadata": {},
   "source": [
    "So appreantly there are only one entries for both max values. But, what we have catch here, a bad fish in a pound. Isn't odd that 88 units of distance is covered in 220 units of time and only 8 unit of distance is covered in **156241** time???\n",
    "\n",
    "Let check the releation ship between travel distance and travel time, but first let normalize the data to relax load on my CPU."
   ]
  },
  {
   "cell_type": "code",
   "execution_count": 69,
   "metadata": {},
   "outputs": [
    {
     "data": {
      "text/html": [
       "<div>\n",
       "<style scoped>\n",
       "    .dataframe tbody tr th:only-of-type {\n",
       "        vertical-align: middle;\n",
       "    }\n",
       "\n",
       "    .dataframe tbody tr th {\n",
       "        vertical-align: top;\n",
       "    }\n",
       "\n",
       "    .dataframe thead th {\n",
       "        text-align: right;\n",
       "    }\n",
       "</style>\n",
       "<table border=\"1\" class=\"dataframe\">\n",
       "  <thead>\n",
       "    <tr style=\"text-align: right;\">\n",
       "      <th></th>\n",
       "      <th>date</th>\n",
       "      <th>t_d</th>\n",
       "      <th>t_t</th>\n",
       "    </tr>\n",
       "  </thead>\n",
       "  <tbody>\n",
       "    <tr>\n",
       "      <th>0</th>\n",
       "      <td>12/31/2018 00:00:16</td>\n",
       "      <td>0.090909</td>\n",
       "      <td>0.000109</td>\n",
       "    </tr>\n",
       "    <tr>\n",
       "      <th>1</th>\n",
       "      <td>12/31/2018 00:01:03</td>\n",
       "      <td>0.090909</td>\n",
       "      <td>0.000122</td>\n",
       "    </tr>\n",
       "    <tr>\n",
       "      <th>2</th>\n",
       "      <td>12/31/2018 00:02:49</td>\n",
       "      <td>0.125000</td>\n",
       "      <td>0.000250</td>\n",
       "    </tr>\n",
       "    <tr>\n",
       "      <th>3</th>\n",
       "      <td>12/31/2018 00:03:09</td>\n",
       "      <td>0.125000</td>\n",
       "      <td>0.000122</td>\n",
       "    </tr>\n",
       "    <tr>\n",
       "      <th>4</th>\n",
       "      <td>12/31/2018 00:04:01</td>\n",
       "      <td>0.102273</td>\n",
       "      <td>0.000070</td>\n",
       "    </tr>\n",
       "  </tbody>\n",
       "</table>\n",
       "</div>"
      ],
      "text/plain": [
       "                  date       t_d       t_t\n",
       "0  12/31/2018 00:00:16  0.090909  0.000109\n",
       "1  12/31/2018 00:01:03  0.090909  0.000122\n",
       "2  12/31/2018 00:02:49  0.125000  0.000250\n",
       "3  12/31/2018 00:03:09  0.125000  0.000122\n",
       "4  12/31/2018 00:04:01  0.102273  0.000070"
      ]
     },
     "execution_count": 69,
     "metadata": {},
     "output_type": "execute_result"
    }
   ],
   "source": [
    "nor_df = df.copy()\n",
    "nor_df['t_d'] = nor_df['t_d']/88\n",
    "nor_df['t_t'] = nor_df['t_t']/156241\n",
    "nor_df.head()"
   ]
  },
  {
   "cell_type": "code",
   "execution_count": 70,
   "metadata": {},
   "outputs": [
    {
     "data": {
      "image/png": "[encoded data removed]",
      "text/plain": [
       "<matplotlib.figure.Figure at 0x7fb10cc20208>"
      ]
     },
     "metadata": {
      "needs_background": "light"
     },
     "output_type": "display_data"
    }
   ],
   "source": [
    "plt.plot(nor_df['t_d'], nor_df['t_t'])\n",
    "plt.xlabel('Travel distance')\n",
    "plt.ylabel('Travel time')\n",
    "plt.show()"
   ]
  },
  {
   "cell_type": "markdown",
   "metadata": {},
   "source": [
    "Gotcha!!!\n",
    "\n",
    "Here, we can see clearly that most of the rides are completed within 0.2 normailzed unit of travel time. And there are some outliers which are covered in expectinonaly high values of time.\n",
    "\n",
    "Lets catch them!!!"
   ]
  },
  {
   "cell_type": "code",
   "execution_count": 71,
   "metadata": {},
   "outputs": [
    {
     "data": {
      "text/html": [
       "<div>\n",
       "<style scoped>\n",
       "    .dataframe tbody tr th:only-of-type {\n",
       "        vertical-align: middle;\n",
       "    }\n",
       "\n",
       "    .dataframe tbody tr th {\n",
       "        vertical-align: top;\n",
       "    }\n",
       "\n",
       "    .dataframe thead th {\n",
       "        text-align: right;\n",
       "    }\n",
       "</style>\n",
       "<table border=\"1\" class=\"dataframe\">\n",
       "  <thead>\n",
       "    <tr style=\"text-align: right;\">\n",
       "      <th></th>\n",
       "      <th>date</th>\n",
       "      <th>t_d</th>\n",
       "      <th>t_t</th>\n",
       "    </tr>\n",
       "  </thead>\n",
       "  <tbody>\n",
       "    <tr>\n",
       "      <th>225239</th>\n",
       "      <td>01/02/2019 10:42:05</td>\n",
       "      <td>0.022727</td>\n",
       "      <td>0.515383</td>\n",
       "    </tr>\n",
       "    <tr>\n",
       "      <th>356505</th>\n",
       "      <td>01/20/2019 09:28:55</td>\n",
       "      <td>0.056818</td>\n",
       "      <td>0.881792</td>\n",
       "    </tr>\n",
       "    <tr>\n",
       "      <th>359705</th>\n",
       "      <td>01/20/2019 22:23:22</td>\n",
       "      <td>0.090909</td>\n",
       "      <td>1.000000</td>\n",
       "    </tr>\n",
       "  </tbody>\n",
       "</table>\n",
       "</div>"
      ],
      "text/plain": [
       "                       date       t_d       t_t\n",
       "225239  01/02/2019 10:42:05  0.022727  0.515383\n",
       "356505  01/20/2019 09:28:55  0.056818  0.881792\n",
       "359705  01/20/2019 22:23:22  0.090909  1.000000"
      ]
     },
     "execution_count": 71,
     "metadata": {},
     "output_type": "execute_result"
    }
   ],
   "source": [
    "nor_df.loc[nor_df['t_t']> 0.2]"
   ]
  },
  {
   "cell_type": "markdown",
   "metadata": {},
   "source": [
    "Here we got our extreem outliers, these rides should be investigated and flaged for fraud. \n",
    "Now if we remove outliers from our data we can see the linearity of the data"
   ]
  },
  {
   "cell_type": "code",
   "execution_count": 72,
   "metadata": {},
   "outputs": [
    {
     "data": {
      "text/plain": [
       "date    01/02/2019 10:42:05\n",
       "t_d               0.0227273\n",
       "t_t                0.515383\n",
       "Name: 225239, dtype: object"
      ]
     },
     "execution_count": 72,
     "metadata": {},
     "output_type": "execute_result"
    }
   ],
   "source": [
    "nor_df.loc[225239]"
   ]
  },
  {
   "cell_type": "code",
   "execution_count": 73,
   "metadata": {},
   "outputs": [],
   "source": [
    "tmp = nor_df.copy()\n",
    "ind = nor_df.loc[nor_df['t_t']> 0.2].index\n",
    "tmp.drop(ind,inplace=True)"
   ]
  },
  {
   "cell_type": "code",
   "execution_count": 74,
   "metadata": {},
   "outputs": [
    {
     "data": {
      "image/png": "[encoded data removed]",
      "text/plain": [
       "<matplotlib.figure.Figure at 0x7fb10cca3a90>"
      ]
     },
     "metadata": {
      "needs_background": "light"
     },
     "output_type": "display_data"
    }
   ],
   "source": [
    "plt.plot(tmp['t_d'], tmp['t_t'])\n",
    "plt.xlabel('Travel distance')\n",
    "plt.ylabel('Travel time')\n",
    "plt.show()"
   ]
  },
  {
   "cell_type": "markdown",
   "metadata": {},
   "source": [
    "Now we can see that there are still some outliers left, and can be filter out"
   ]
  },
  {
   "cell_type": "code",
   "execution_count": 75,
   "metadata": {},
   "outputs": [
    {
     "name": "stdout",
     "output_type": "stream",
     "text": [
      "                       date       t_d       t_t\n",
      "14516   12/02/2018 12:36:34  0.147727  0.148085\n",
      "21347   12/03/2018 17:35:25  0.102273  0.159190\n",
      "109553  12/15/2018 18:37:45  0.011364  0.046127\n",
      "112812  12/16/2018 13:35:44  0.022727  0.149353\n",
      "118159  12/17/2018 13:35:14  0.113636  0.022619\n",
      "128475  12/18/2018 19:25:41  0.261364  0.123021\n",
      "146707  12/21/2018 09:31:40  0.034091  0.033986\n",
      "184460  12/27/2018 09:51:17  0.022727  0.026088\n",
      "198340  12/29/2018 01:24:50  0.102273  0.068977\n",
      "198497  12/29/2018 08:19:56  0.113636  0.032815\n",
      "200217  12/29/2018 13:24:25  0.102273  0.093253\n",
      "218722  01/01/2019 12:10:09  0.113636  0.052317\n",
      "326253  01/16/2019 11:22:12  0.215909  0.027739\n",
      "369777  01/22/2019 17:08:42  0.000000  0.054563\n",
      "375894  01/23/2019 13:44:49  0.636364  0.035208\n",
      "402307  01/26/2019 19:06:44  0.886364  0.020680\n"
     ]
    }
   ],
   "source": [
    "print(tmp.loc[tmp['t_t'] > 0.02])"
   ]
  },
  {
   "cell_type": "markdown",
   "metadata": {},
   "source": [
    "Above are the rides which are found to be moderately outliers which should also be investigated, but with less restictions. Now by removing these values we can get our linear graph"
   ]
  },
  {
   "cell_type": "code",
   "execution_count": 76,
   "metadata": {},
   "outputs": [
    {
     "data": {
      "image/png": "[encoded data removed]",
      "text/plain": [
       "<matplotlib.figure.Figure at 0x7fb10cdbbb38>"
      ]
     },
     "metadata": {
      "needs_background": "light"
     },
     "output_type": "display_data"
    }
   ],
   "source": [
    "tmp = tmp.loc[tmp['t_t'] < 0.02]\n",
    "plt.plot(tmp['t_d'], tmp['t_t'])\n",
    "plt.xlabel('Travel distance')\n",
    "plt.ylabel('Travel time')\n",
    "plt.show()"
   ]
  },
  {
   "cell_type": "markdown",
   "metadata": {},
   "source": [
    "And here it is!!!"
   ]
  },
  {
   "cell_type": "code",
   "execution_count": 78,
   "metadata": {
    "scrolled": true
   },
   "outputs": [
    {
     "name": "stdout",
     "output_type": "stream",
     "text": [
      "8481.835725206443\n"
     ]
    },
    {
     "data": {
      "image/png": "[encoded data removed]",
      "text/plain": [
       "<matplotlib.figure.Figure at 0x7fb10ce6ddd8>"
      ]
     },
     "metadata": {
      "needs_background": "light"
     },
     "output_type": "display_data"
    }
   ],
   "source": [
    "import math\n",
    "import matplotlib.mlab as mlab\n",
    "\n",
    "td_counts = df.t_d.value_counts()\n",
    "#td_counts = df.t_d\n",
    "\n",
    "mu = np.mean(td_counts)\n",
    "variance = np.var(td_counts)\n",
    "sigma = math.sqrt(variance)\n",
    "print(sigma)\n",
    "x = np.linspace(mu - 3*sigma, mu + 3*sigma, 100)\n",
    "#plt.xticks(np.arange(-3*sigma, 3*sigma, step=5))\n",
    "plt.xlabel(\"Travel Distance\")\n",
    "plt.plot(x,mlab.normpdf(x, mu, sigma))\n",
    "plt.axvline(x=mu, color='g')\n",
    "plt.axvline(x=sigma, color='k', linestyle='--')\n",
    "plt.axvline(x=-sigma, color='k', linestyle='--')\n",
    "plt.axvline(x=2*sigma, color='r', linestyle=':')\n",
    "plt.axvline(x=-2*sigma, color='r', linestyle=':')\n",
    "plt.show()"
   ]
  },
  {
   "cell_type": "markdown",
   "metadata": {},
   "source": [
    "So, simply to find fraudulent rides w.r.t to Travel distance group counts you can refer above graph. Anything above red dotted lines have high chances of fraudulent ride, anything above black doted line need to be observe"
   ]
  },
  {
   "cell_type": "markdown",
   "metadata": {},
   "source": [
    "Now lets group data with respect to days"
   ]
  },
  {
   "cell_type": "code",
   "execution_count": 79,
   "metadata": {},
   "outputs": [],
   "source": [
    "gp = df['date'].copy()\n",
    "mapper = {0:gp[0].split(\" \")[0]}\n",
    "marker = 0\n",
    "prev = ''\n",
    "for idx, value in gp.iteritems():\n",
    "    date = value.split(\" \")[0]\n",
    "    if prev != date:\n",
    "        marker+=1\n",
    "        mapper.update({marker:date})\n",
    "        prev = date\n",
    "    \n",
    "    gp[idx] = marker\n",
    "\n",
    "df_gp = df.copy()\n",
    "df_gp['date'] = gp"
   ]
  },
  {
   "cell_type": "code",
   "execution_count": 81,
   "metadata": {},
   "outputs": [
    {
     "data": {
      "text/plain": [
       "<Container object of 59 artists>"
      ]
     },
     "execution_count": 81,
     "metadata": {},
     "output_type": "execute_result"
    },
    {
     "data": {
      "image/png": "[encoded data removed]",
      "text/plain": [
       "<matplotlib.figure.Figure at 0x7fb10cfe8eb8>"
      ]
     },
     "metadata": {
      "needs_background": "light"
     },
     "output_type": "display_data"
    }
   ],
   "source": [
    "x = df_gp.date.value_counts()\n",
    "#plt.xticks(np.arange(min(x), max(x)+1, 1))\n",
    "plt.xlabel('Labeled date')\n",
    "plt.ylabel('Counts')\n",
    "plt.bar(x.index.values, x)"
   ]
  },
  {
   "cell_type": "code",
   "execution_count": 82,
   "metadata": {},
   "outputs": [
    {
     "name": "stdout",
     "output_type": "stream",
     "text": [
      "Max rides is dated on 12/13/2018\n"
     ]
    }
   ],
   "source": [
    "x.loc[x == x.max()]\n",
    "print(\"Max rides is dated on {}\".format(mapper[x.index[0]]))"
   ]
  },
  {
   "cell_type": "markdown",
   "metadata": {},
   "source": [
    "Max rides is dated on **12/13/2018**"
   ]
  },
  {
   "cell_type": "markdown",
   "metadata": {},
   "source": [
    "Here we see a pattern that on some days of the week there are less rides than other, let filter them out"
   ]
  },
  {
   "cell_type": "code",
   "execution_count": 9,
   "metadata": {},
   "outputs": [
    {
     "name": "stdout",
     "output_type": "stream",
     "text": [
      "Follwing dates have less than 4000 rides\n",
      "01/27/2019\n",
      "01/20/2019\n",
      "12/23/2018\n",
      "01/06/2019\n",
      "12/25/2018\n",
      "12/30/2018\n",
      "12/16/2018\n",
      "12/09/2018\n",
      "12/02/2018\n"
     ]
    }
   ],
   "source": [
    "x.loc[x<4000]\n",
    "print('Follwing dates have less than 4000 rides')\n",
    "for idx in x.loc[x<4000].index:\n",
    "    print(mapper[idx])"
   ]
  },
  {
   "cell_type": "markdown",
   "metadata": {},
   "source": [
    "Now lets check howmany of them are in weekends"
   ]
  },
  {
   "cell_type": "code",
   "execution_count": 15,
   "metadata": {},
   "outputs": [
    {
     "name": "stdout",
     "output_type": "stream",
     "text": [
      "2019-01-27 00:00:00 is a Weekend\n",
      "2019-01-20 00:00:00 is a Weekend\n",
      "2018-12-23 00:00:00 is a Weekend\n",
      "2019-01-06 00:00:00 is a Weekend\n",
      "2018-12-25 00:00:00 is a Weekday\n",
      "2018-12-30 00:00:00 is a Weekend\n",
      "2018-12-16 00:00:00 is a Weekend\n",
      "2018-12-09 00:00:00 is a Weekend\n",
      "2018-12-02 00:00:00 is a Weekend\n"
     ]
    }
   ],
   "source": [
    "for idx in x.loc[x<4000].index:\n",
    "    date = datetime.strptime(mapper[idx], '%m/%d/%Y')\n",
    "    weekno = date.weekday()\n",
    "    \n",
    "    if weekno<5:\n",
    "        print(\"{} is a Weekday\".format(date))\n",
    "    else:\n",
    "        print(\"{} is a Weekend\".format(date))"
   ]
  },
  {
   "cell_type": "markdown",
   "metadata": {},
   "source": [
    "And as expected all dates were weekend expect **2018-12-25**, but yet again it was Christmas/Muhammah Ali Jinnah Birthday which was a holiday. So we can safel deduce that rides are taken less on holidays.\n",
    "\n",
    "Till here I deduced many things which can be printed on jypyter at it is, But I want to show you a little gist of what more can a viz wizard can do...."
   ]
  },
  {
   "cell_type": "code",
   "execution_count": 46,
   "metadata": {},
   "outputs": [
    {
     "data": {
      "text/plain": [
       "'file:///home/oak/Documents/Bykea/temp-plot.html'"
      ]
     },
     "execution_count": 46,
     "metadata": {},
     "output_type": "execute_result"
    }
   ],
   "source": [
    "import plotly.plotly as py\n",
    "import plotly.graph_objs as go\n",
    "import plotly\n",
    "\n",
    "\n",
    "x = []\n",
    "df_day = df_gp.loc[df_gp['date']<8]\n",
    "\n",
    "for col in df_day.columns.values:\n",
    "    if col in ['date']:\n",
    "        x.append(dict(label=col, tickvals=[1,2,3,4,5,6,7], ticktext=[mapper[x] for x in range(1, 8)], values=df_day[col]))\n",
    "    else:\n",
    "        x.append(dict(label=col, values=df_day[col]))\n",
    "    \n",
    "data = [\n",
    "    go.Parcoords(\n",
    "        dimensions=x,\n",
    "    )\n",
    "]\n",
    "\n",
    "layout = go.Layout(\n",
    "    plot_bgcolor = '#E5E5E5',\n",
    "    paper_bgcolor = '#E5E5E5'\n",
    ")\n",
    "\n",
    "fig = go.Figure(data = data, layout = layout)\n",
    "plotly.offline.plot(fig)"
   ]
  },
  {
   "cell_type": "markdown",
   "metadata": {},
   "source": [
    "I hope that would be enough for a given dataset. I produced two images from above tool, please check them in the repository.\n",
    "\n",
    "Please use \"temp-plot.html\" to use above produced tool.\n",
    "\n",
    "Oak logging out!"
   ]
  },
  {
   "cell_type": "code",
   "execution_count": null,
   "metadata": {},
   "outputs": [],
   "source": []
  }
 ],
 "metadata": {
  "kernelspec": {
   "display_name": "Python 3",
   "language": "python",
   "name": "python3"
  },
  "language_info": {
   "codemirror_mode": {
    "name": "ipython",
    "version": 3
   },
   "file_extension": ".py",
   "mimetype": "text/x-python",
   "name": "python",
   "nbconvert_exporter": "python",
   "pygments_lexer": "ipython3",
   "version": "3.6.8"
  }
 },
 "nbformat": 4,
 "nbformat_minor": 2
}
