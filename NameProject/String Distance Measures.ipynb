{
 "cells": [
  {
   "cell_type": "code",
   "execution_count": 1,
   "metadata": {},
   "outputs": [
    {
     "name": "stdout",
     "output_type": "stream",
     "text": [
      "Collecting pyjarowinkler\n",
      "  Downloading https://files.pythonhosted.org/packages/b9/58/b89073047b447e02b08d4f64fbb984e5a4dfef4134477350b256c625c779/pyjarowinkler-1.8-py2.py3-none-any.whl\n",
      "Installing collected packages: pyjarowinkler\n",
      "Successfully installed pyjarowinkler-1.8\n",
      "\u001b[33mYou are using pip version 18.1, however version 19.2.3 is available.\n",
      "You should consider upgrading via the 'pip install --upgrade pip' command.\u001b[0m\n",
      "Collecting python-Levenshtein\n",
      "\u001b[?25l  Downloading https://files.pythonhosted.org/packages/42/a9/d1785c85ebf9b7dfacd08938dd028209c34a0ea3b1bcdb895208bd40a67d/python-Levenshtein-0.12.0.tar.gz (48kB)\n",
      "\u001b[K    100% |████████████████████████████████| 51kB 720kB/s ta 0:00:01\n",
      "\u001b[?25hRequirement already satisfied: setuptools in /usr/local/lib/python3.6/dist-packages/setuptools-39.1.0-py3.6.egg (from python-Levenshtein) (39.1.0)\n",
      "Building wheels for collected packages: python-Levenshtein\n",
      "  Running setup.py bdist_wheel for python-Levenshtein ... \u001b[?25ldone\n",
      "\u001b[?25h  Stored in directory: /home/oak/.cache/pip/wheels/de/c2/93/660fd5f7559049268ad2dc6d81c4e39e9e36518766eaf7e342\n",
      "Successfully built python-Levenshtein\n",
      "Installing collected packages: python-Levenshtein\n",
      "Successfully installed python-Levenshtein-0.12.0\n",
      "\u001b[33mYou are using pip version 18.1, however version 19.2.3 is available.\n",
      "You should consider upgrading via the 'pip install --upgrade pip' command.\u001b[0m\n",
      "Collecting Fuzzy\n",
      "  Downloading https://files.pythonhosted.org/packages/ad/b0/210f790e81e3c9f86a740f5384c758ad6c7bc1958332cf64263a9d3cf336/Fuzzy-1.2.2.tar.gz\n",
      "Building wheels for collected packages: Fuzzy\n",
      "  Running setup.py bdist_wheel for Fuzzy ... \u001b[?25ldone\n",
      "\u001b[?25h  Stored in directory: /home/oak/.cache/pip/wheels/79/f7/14/b7e20855729780e85322529469b2d1eadfd940e83d981373cc\n",
      "Successfully built Fuzzy\n",
      "Installing collected packages: Fuzzy\n",
      "Successfully installed Fuzzy-1.2.2\n",
      "\u001b[33mYou are using pip version 18.1, however version 19.2.3 is available.\n",
      "You should consider upgrading via the 'pip install --upgrade pip' command.\u001b[0m\n",
      "Collecting fuzzywuzzy\n",
      "  Downloading https://files.pythonhosted.org/packages/d8/f1/5a267addb30ab7eaa1beab2b9323073815da4551076554ecc890a3595ec9/fuzzywuzzy-0.17.0-py2.py3-none-any.whl\n",
      "Installing collected packages: fuzzywuzzy\n",
      "Successfully installed fuzzywuzzy-0.17.0\n",
      "\u001b[33mYou are using pip version 18.1, however version 19.2.3 is available.\n",
      "You should consider upgrading via the 'pip install --upgrade pip' command.\u001b[0m\n",
      "Collecting jellyfish\n",
      "\u001b[?25l  Downloading https://files.pythonhosted.org/packages/3f/80/bcacc7affb47be7279d7d35225e1a932416ed051b315a7f9df20acf04cbe/jellyfish-0.7.2.tar.gz (133kB)\n",
      "\u001b[K    100% |████████████████████████████████| 143kB 2.7MB/s ta 0:00:01\n",
      "\u001b[?25hBuilding wheels for collected packages: jellyfish\n",
      "  Running setup.py bdist_wheel for jellyfish ... \u001b[?25ldone\n",
      "\u001b[?25h  Stored in directory: /home/oak/.cache/pip/wheels/e8/fe/99/d8fa8f2ef7b82a625b0b77a84d319b0b50693659823c4effb4\n",
      "Successfully built jellyfish\n",
      "Installing collected packages: jellyfish\n",
      "Successfully installed jellyfish-0.7.2\n",
      "\u001b[33mYou are using pip version 18.1, however version 19.2.3 is available.\n",
      "You should consider upgrading via the 'pip install --upgrade pip' command.\u001b[0m\n"
     ]
    }
   ],
   "source": [
    "# Install all libraries:\n",
    "import sys\n",
    "!{sys.executable} -m pip install pyjarowinkler --user\n",
    "\n",
    "import sys\n",
    "!{sys.executable} -m pip install python-Levenshtein --user\n",
    "\n",
    "import sys\n",
    "!{sys.executable} -m pip install Fuzzy --user\n",
    "\n",
    "import sys\n",
    "!{sys.executable} -m pip install fuzzywuzzy --user\n",
    "\n",
    "import sys\n",
    "!{sys.executable} -m pip install jellyfish --user"
   ]
  },
  {
   "cell_type": "code",
   "execution_count": 2,
   "metadata": {},
   "outputs": [],
   "source": [
    "import jellyfish"
   ]
  },
  {
   "cell_type": "code",
   "execution_count": 3,
   "metadata": {},
   "outputs": [
    {
     "name": "stdout",
     "output_type": "stream",
     "text": [
      "O562\n",
      "O560\n",
      "O560\n"
     ]
    }
   ],
   "source": [
    "\n",
    "print( jellyfish.soundex('Omer Ak'))\n",
    "print( jellyfish.soundex('Omer A'))\n",
    "print( jellyfish.soundex('Omer'))\n"
   ]
  },
  {
   "cell_type": "code",
   "execution_count": 4,
   "metadata": {},
   "outputs": [],
   "source": [
    "import numpy as np\n",
    "import pyjarowinkler\n",
    "from pyjarowinkler import distance as jw\n",
    "import Levenshtein\n",
    "import fuzzy\n",
    "from fuzzywuzzy import fuzz\n",
    "import jellyfish"
   ]
  },
  {
   "cell_type": "code",
   "execution_count": 5,
   "metadata": {},
   "outputs": [],
   "source": [
    "# From:  https://en.wikibooks.org/wiki/Algorithm_Implementation/Strings/Longest_common_substring#Python_3\n",
    "def longest_common_substring(s1, s2):\n",
    "    m = [[0] * (1 + len(s2)) for i in range(1 + len(s1))]\n",
    "    longest, x_longest = 0, 0\n",
    "    for x in range(1, 1 + len(s1)):\n",
    "        for y in range(1, 1 + len(s2)):\n",
    "            if s1[x - 1] == s2[y - 1]:\n",
    "                m[x][y] = m[x - 1][y - 1] + 1\n",
    "                if m[x][y] > longest:\n",
    "                    longest = m[x][y]\n",
    "                    x_longest = x\n",
    "            else:\n",
    "                m[x][y] = 0\n",
    "    return s1[x_longest - longest: x_longest]"
   ]
  },
  {
   "cell_type": "code",
   "execution_count": 6,
   "metadata": {},
   "outputs": [],
   "source": [
    "#From:  https://en.wikibooks.org/wiki/Algorithm_Implementation/Strings/Longest_common_subsequence#Computing_the_length_table_of_the_LCS_2\n",
    "def longest_common_subsequence(X, Y):\n",
    "    m = len(X)\n",
    "    n = len(Y)\n",
    "    # An (m+1) times (n+1) matrix\n",
    "    C = [[0] * (n + 1) for _ in range(m + 1)]\n",
    "    for i in range(1, m+1):\n",
    "        for j in range(1, n+1):\n",
    "            if X[i-1] == Y[j-1]: \n",
    "                C[i][j] = C[i-1][j-1] + 1\n",
    "            else:\n",
    "                C[i][j] = max(C[i][j-1], C[i-1][j])\n",
    "    return C"
   ]
  },
  {
   "cell_type": "code",
   "execution_count": 7,
   "metadata": {},
   "outputs": [
    {
     "data": {
      "text/plain": [
       "'Mr.defabc'"
      ]
     },
     "execution_count": 7,
     "metadata": {},
     "output_type": "execute_result"
    }
   ],
   "source": [
    "s1 = 'def abc'\n",
    "words = s1.split(' ')\n",
    "s2 = 'Mr. def abc'\n",
    "words = s2.split(' ')\n",
    "ss = str()\n",
    "for w in words:\n",
    "    ss += w\n",
    "ss"
   ]
  },
  {
   "cell_type": "code",
   "execution_count": 8,
   "metadata": {},
   "outputs": [
    {
     "name": "stdout",
     "output_type": "stream",
     "text": [
      "0.78\n",
      "0.7777777777777778\n",
      "0.8888888888888888\n",
      "0.6363636363636364\n",
      "0.7777777777777778\n"
     ]
    }
   ],
   "source": [
    "n1 = 'def abc'\n",
    "n2 = 'Mr. def abc'\n",
    "print (fuzz.ratio(n1,n2)/100.)\n",
    "print(len(longest_common_substring(n1,n2))/(len(n1)+len(n2))*2.)\n",
    "print(len(longest_common_subsequence(n1,n2))/(len(n1)+len(n2))*2.)\n",
    "print(max(max(longest_common_subsequence(n1,n2)))/max(len(n1),len(n2)))\n",
    "print(max(max(longest_common_subsequence(n1,n2)))/(len(n1)+len(n2))*2.)"
   ]
  },
  {
   "cell_type": "code",
   "execution_count": 9,
   "metadata": {},
   "outputs": [
    {
     "data": {
      "text/plain": [
       "7"
      ]
     },
     "execution_count": 9,
     "metadata": {},
     "output_type": "execute_result"
    }
   ],
   "source": [
    "max(max(longest_common_subsequence(n1,n2)))"
   ]
  },
  {
   "cell_type": "code",
   "execution_count": 14,
   "metadata": {},
   "outputs": [],
   "source": [
    "def pp_distance(n1,n2):\n",
    "    d = np.zeros(8)\n",
    "    if n1=='' or n2=='': return\n",
    "    d[0] = jw.get_jaro_distance(n1, n2, winkler=True,scaling=0.1)\n",
    "    #d[0] = pyjarowinkler.distance.get_jaro_distance(n1, n2, winkler=True,scaling=0.1)\n",
    "    d[1] = 1.-Levenshtein.distance(n1, n2)/max(len(n1),len(n2))\n",
    "    d[2] = fuzz.token_sort_ratio(n1, n2)/100.\n",
    "    d[3] = fuzz.partial_ratio(n1, n2)/100.\n",
    "    d[4] = len(longest_common_substring(n1,n2))/(len(n1)+len(n2))*2.\n",
    "    d[5] = max(max(longest_common_subsequence(n1,n2)))/max(len(n1),len(n2))\n",
    "\n",
    "    d[6] = 1.-Levenshtein.distance(jellyfish.soundex(n1),jellyfish.soundex(n2))/4.\n",
    "    \n",
    "    #d[7] = (max(d[0:5]) + np.mean(d[0:5]))/2.\n",
    "    #d[7] = (max(d[0:5]) * np.mean(d[0:5]))\n",
    "    #d[8] = X if len(w1)<len(w2)\n",
    "    # Meta Score:\n",
    "    d[7] = 1./2.5*(max(d[0],d[1]) + np.mean([d[2],d[3]]) + np.mean([d[4],d[5],d[6]]) - \n",
    "                  1./2.*np.min([max(d[0],d[1]), np.mean([d[2],d[3]]), np.mean([d[4],d[5],d[6]])]))\n",
    "    #d[7] = np.mean( [max(d[0],d[1]) , max(d[2],d[3]) , max(d[4],d[5])] )\n",
    "    print(\"{:18}\\t{:17}\\t{:0.2f}\\t{:0.2f}\\t{:0.2f}\\t{:0.2f}\\t{:0.2f}\\t{:0.2f}\\t{:0.2f}\\t{:0.2f}\\t{}\"\n",
    "          .format(n1,n2,d[0],d[1],d[2],d[3],d[4],d[5],d[6],d[7],d[7]>=0.70))"
   ]
  },
  {
   "cell_type": "code",
   "execution_count": 15,
   "metadata": {
    "scrolled": false
   },
   "outputs": [
    {
     "name": "stdout",
     "output_type": "stream",
     "text": [
      "Name1             \tName2            \tJW   \tLev  \tFSort\tFPar \tsStr \tsSeq \tSoun \tMeta \tG'nuf \n",
      "• Acceptable Matches:\n",
      "Omer Ahmed        \tOmer Ahmed       \t1.00\t1.00\t1.00\t1.00\t1.00\t1.00\t1.00\t1.00\tTrue\n",
      "Omer Ahmed        \tOmer D           \t0.87\t0.50\t0.75\t0.83\t0.62\t0.50\t0.75\t0.79\tTrue\n",
      "Omer Ahmed        \tOmar Ahmad       \t0.86\t0.80\t0.80\t0.80\t0.50\t0.80\t1.00\t0.82\tTrue\n",
      "Omer Ahmed        \tOmer             \t0.88\t0.40\t0.57\t1.00\t0.57\t0.40\t0.75\t0.78\tTrue\n",
      "Omer Ahmed        \tDr Omer Ahmed    \t0.86\t0.77\t0.87\t1.00\t0.87\t0.77\t0.25\t0.84\tTrue\n",
      "Omer Ahmed        \tDr Omar Ahmad    \t0.72\t0.62\t0.70\t0.80\t0.43\t0.62\t0.25\t0.67\tFalse\n",
      "\n",
      "• In Between Matches:\n",
      "Omer Ahmed        \tAhmed, Omer      \t0.68\t0.36\t1.00\t0.50\t0.48\t0.45\t0.50\t0.67\tFalse\n",
      "Omer Ahmed        \tUmer             \t0.68\t0.30\t0.43\t0.75\t0.43\t0.30\t0.50\t0.59\tFalse\n",
      "Omer Ahmed        \tUmar             \t0.57\t0.20\t0.29\t0.50\t0.14\t0.20\t0.50\t0.44\tFalse\n",
      "Omer Ahmed        \tAmar Ahmed       \t0.78\t0.80\t0.80\t0.80\t0.70\t0.80\t0.75\t0.79\tTrue\n",
      "Omer Ahmed        \tDr Ahmed         \t0.72\t0.70\t0.78\t0.88\t0.78\t0.70\t0.25\t0.74\tTrue\n",
      "\n",
      "• Not Acceptable Matches:\n",
      "Omer Ahmed        \tUncle Om         \t0.56\t0.10\t0.33\t0.38\t0.22\t0.30\t0.25\t0.42\tFalse\n",
      "Omer Ahmed        \toa               \t0.53\t0.00\t0.17\t0.00\t0.00\t0.00\t0.25\t0.26\tFalse\n",
      "Omer Ahmed        \tBuddy            \t0.00\t0.00\t0.13\t0.20\t0.13\t0.10\t0.00\t0.10\tFalse\n",
      "Omer Ahmed        \tsport guy        \t0.54\t0.10\t0.32\t0.22\t0.11\t0.20\t0.25\t0.36\tFalse\n",
      "\n",
      "\n",
      "Name1             \tName2            \tJW   \tLev  \tFSort\tFPar \tsStr \tsSeq \tSoun \tMeta \tG'nuf \n",
      "• Acceptable Matches:\n",
      "Svetlana Lekoska  \tLana             \t0.44\t0.19\t0.40\t0.75\t0.30\t0.19\t0.00\t0.44\tFalse\n",
      "Svetlana Lekoska  \tLana             \t0.44\t0.19\t0.40\t0.75\t0.30\t0.19\t0.00\t0.44\tFalse\n",
      "Svetlana Lekoska  \tSvetlana         \t0.90\t0.50\t0.67\t1.00\t0.67\t0.50\t1.00\t0.84\tTrue\n",
      "Svetlana Lekoska  \tS Lekoska        \t0.54\t0.56\t0.72\t0.89\t0.64\t0.56\t0.25\t0.64\tFalse\n",
      "Svetlana Lekoska  \tLekoska          \t0.47\t0.44\t0.61\t1.00\t0.61\t0.44\t0.00\t0.58\tFalse\n",
      "Svetlana Lekoska  \tLana Lekoska     \t0.83\t0.69\t0.50\t0.92\t0.79\t0.69\t0.00\t0.71\tTrue\n",
      "Svetlana Lekoska  \tLekoska, Svetlana\t0.69\t0.24\t1.00\t0.50\t0.48\t0.47\t0.00\t0.64\tFalse\n",
      "\n",
      "• In Between Matches:\n",
      "Svetlana Lekoska  \tSvetlanaLekoska  \t0.99\t0.94\t0.52\t0.93\t0.52\t0.94\t1.00\t0.87\tTrue\n",
      "Svetlana Lekoska  \tSveti            \t0.81\t0.25\t0.38\t0.80\t0.38\t0.25\t0.75\t0.65\tFalse\n",
      "\n",
      "• Not Acceptable Matches:\n",
      "Svetlana Lekoska  \tSelna Leksa      \t0.80\t0.69\t0.81\t0.73\t0.44\t0.69\t0.50\t0.74\tTrue\n",
      "Svetlana Lekoska  \tBilly Bob        \t0.45\t0.19\t0.16\t0.22\t0.08\t0.19\t0.00\t0.27\tFalse\n",
      "Svetlana Lekoska  \tTaco Hut         \t0.52\t0.12\t0.25\t0.25\t0.08\t0.12\t0.25\t0.34\tFalse\n",
      "\n",
      "\n",
      "Name1             \tName2            \tJW   \tLev  \tFSort\tFPar \tsStr \tsSeq \tSoun \tMeta \tG'nuf \n",
      "• Acceptable Matches:\n",
      "Yonglin Zhuo      \tYonglin          \t0.92\t0.58\t0.74\t1.00\t0.74\t0.58\t1.00\t0.87\tTrue\n",
      "Yonglin Zhuo      \tYonglin Z        \t0.95\t0.75\t0.86\t1.00\t0.86\t0.75\t1.00\t0.93\tTrue\n",
      "Yonglin Zhuo      \tZhuo             \t0.44\t0.33\t0.50\t1.00\t0.50\t0.33\t0.00\t0.53\tFalse\n",
      "\n",
      "• In Between Matches:\n",
      "Yonglin Zhuo      \tY Z              \t0.52\t0.25\t0.40\t0.67\t0.27\t0.25\t0.25\t0.47\tFalse\n",
      "\n",
      "• Not Acceptable Matches:\n",
      "Yonglin Zhuo      \tYong Z           \t0.90\t0.50\t0.67\t0.67\t0.44\t0.50\t0.75\t0.74\tTrue\n",
      "Yonglin Zhuo      \tYing             \t0.70\t0.25\t0.38\t0.75\t0.25\t0.25\t0.75\t0.59\tFalse\n",
      "Yonglin Zhuo      \tTrick            \t0.00\t0.08\t0.12\t0.20\t0.12\t0.08\t0.25\t0.14\tFalse\n"
     ]
    }
   ],
   "source": [
    "print(\"{:18}\\t{:17}\\t{:5}\\t{:5}\\t{:5}\\t{:5}\\t{:5}\\t{:5}\\t{:5}\\t{:5}\\t{:6}\"\n",
    "      .format(\"Name1\",\"Name2\",\"JW\",\"Lev\",\"FSort\",\"FPar\",\"sStr\",\"sSeq\",\"Soun\",\"Meta\",\"G'nuf\"))\n",
    "\n",
    "print(\"• Acceptable Matches:\")\n",
    "pp_distance(\"Omer Ahmed\", \"Omer Ahmed\")\n",
    "pp_distance(\"Omer Ahmed\", \"Omer D\")\n",
    "pp_distance(\"Omer Ahmed\", \"Omar Ahmad\")\n",
    "pp_distance(\"Omer Ahmed\", \"Omer\")\n",
    "pp_distance(\"Omer Ahmed\", \"Dr Omer Ahmed\")\n",
    "pp_distance(\"Omer Ahmed\", \"Dr Omar Ahmad\")\n",
    "\n",
    "print(\"\\n• In Between Matches:\")\n",
    "pp_distance(\"Omer Ahmed\", \"Ahmed, Omer\")\n",
    "pp_distance(\"Omer Ahmed\", \"Umer\")\n",
    "pp_distance(\"Omer Ahmed\", \"Umar\")\n",
    "pp_distance(\"Omer Ahmed\", \"Amar Ahmed\")\n",
    "pp_distance(\"Omer Ahmed\", \"Dr Ahmed\")\n",
    "\n",
    "\n",
    "print(\"\\n• Not Acceptable Matches:\")\n",
    "pp_distance(\"Omer Ahmed\", \"Uncle Om\")\n",
    "pp_distance(\"Omer Ahmed\", \"oa\")\n",
    "pp_distance(\"Omer Ahmed\", \"Buddy\")\n",
    "pp_distance(\"Omer Ahmed\", \"sport guy\")\n",
    "\n",
    "print(\"\\n\")\n",
    "print(\"{:18}\\t{:17}\\t{:5}\\t{:5}\\t{:5}\\t{:5}\\t{:5}\\t{:5}\\t{:5}\\t{:5}\\t{:6}\"\n",
    "      .format(\"Name1\",\"Name2\",\"JW\",\"Lev\",\"FSort\",\"FPar\",\"sStr\",\"sSeq\",\"Soun\",\"Meta\",\"G'nuf\"))\n",
    "\n",
    "print(\"• Acceptable Matches:\")\n",
    "pp_distance(\"Svetlana Lekoska\", \"Lana\")\n",
    "pp_distance(\"Svetlana Lekoska\", \"Lana\")\n",
    "pp_distance(\"Svetlana Lekoska\", \"Svetlana\")\n",
    "pp_distance(\"Svetlana Lekoska\", \"S Lekoska\")\n",
    "pp_distance(\"Svetlana Lekoska\", \"Lekoska\")\n",
    "pp_distance(\"Svetlana Lekoska\", \"Lana Lekoska\")\n",
    "pp_distance(\"Svetlana Lekoska\", \"Lekoska, Svetlana\")\n",
    "\n",
    "print(\"\\n• In Between Matches:\")\n",
    "pp_distance(\"Svetlana Lekoska\", \"SvetlanaLekoska\")\n",
    "pp_distance(\"Svetlana Lekoska\", \"Sveti\")\n",
    "\n",
    "\n",
    "print(\"\\n• Not Acceptable Matches:\")\n",
    "\n",
    "pp_distance(\"Svetlana Lekoska\", \"Selna Leksa\")\n",
    "pp_distance(\"Svetlana Lekoska\", \"Billy Bob\")\n",
    "pp_distance(\"Svetlana Lekoska\", \"Taco Hut\")\n",
    "\n",
    "print(\"\\n\")\n",
    "print(\"{:18}\\t{:17}\\t{:5}\\t{:5}\\t{:5}\\t{:5}\\t{:5}\\t{:5}\\t{:5}\\t{:5}\\t{:6}\"\n",
    "      .format(\"Name1\",\"Name2\",\"JW\",\"Lev\",\"FSort\",\"FPar\",\"sStr\",\"sSeq\",\"Soun\",\"Meta\",\"G'nuf\"))\n",
    "\n",
    "print(\"• Acceptable Matches:\")\n",
    "pp_distance(\"Yonglin Zhuo\", \"Yonglin\")\n",
    "pp_distance(\"Yonglin Zhuo\", \"Yonglin Z\")\n",
    "pp_distance(\"Yonglin Zhuo\", \"Zhuo\")\n",
    "\n",
    "print(\"\\n• In Between Matches:\")\n",
    "pp_distance(\"Yonglin Zhuo\", \"Y Z\")\n",
    "\n",
    "\n",
    "print(\"\\n• Not Acceptable Matches:\")\n",
    "pp_distance(\"Yonglin Zhuo\", \"Yong Z\")\n",
    "pp_distance(\"Yonglin Zhuo\", \"Ying\")\n",
    "pp_distance(\"Yonglin Zhuo\", \"Trick\")\n"
   ]
  },
  {
   "cell_type": "code",
   "execution_count": 17,
   "metadata": {},
   "outputs": [
    {
     "name": "stdout",
     "output_type": "stream",
     "text": [
      "Name1             \tName2            \tJW   \tLev  \tFSort\tFPar \tsStr \tsSeq \tSoun \tComb \tG'nuf \n",
      "Omer Ahmed        \tOmer Ahmed       \t1.00\t1.00\t1.00\t1.00\t1.00\t1.00\t1.00\t1.00\tTrue\n",
      "Omer Ahmed        \tOmer Ahmd        \t0.98\t0.90\t0.95\t0.89\t0.84\t0.90\t1.00\t0.94\tTrue\n",
      "Omer Ahmed        \tOmer Ahxx        \t0.90\t0.70\t0.74\t0.78\t0.74\t0.70\t0.75\t0.81\tTrue\n",
      "Omer Ahmed        \tOmer Axxx        \t0.85\t0.60\t0.63\t0.67\t0.63\t0.60\t0.75\t0.73\tTrue\n",
      "Omer Ahmed        \tOmer xxxx        \t0.81\t0.50\t0.42\t0.56\t0.53\t0.50\t0.75\t0.66\tFalse\n",
      "\n",
      "Omer Ahmed        \tDr Omer Duxx     \t0.59\t0.33\t0.55\t0.53\t0.45\t0.42\t0.25\t0.53\tFalse\n",
      "Omer Ahmed        \tOmerxxumm        \t0.81\t0.50\t0.42\t0.56\t0.42\t0.50\t0.75\t0.64\tFalse\n",
      "Omer Ahmed        \tOmer xxxxxxxxx Duxx\t0.75\t0.26\t0.41\t0.50\t0.34\t0.26\t0.75\t0.57\tFalse\n",
      "Omer Ahmed        \tOXmXeXr AXhXmXeXd\t0.78\t0.59\t0.74\t0.60\t0.22\t0.59\t0.25\t0.65\tFalse\n",
      "Omer Ahmed        \tDuxx Omer        \t0.54\t0.30\t0.63\t0.44\t0.42\t0.40\t0.25\t0.50\tFalse\n",
      "\n",
      "Omer Ahmed        \tOmer             \t0.88\t0.40\t0.57\t1.00\t0.57\t0.40\t0.75\t0.78\tTrue\n",
      "Omer Ahmed        \tOme              \t0.84\t0.30\t0.46\t1.00\t0.46\t0.30\t0.50\t0.71\tTrue\n",
      "Omer Ahmed        \tOm               \t0.79\t0.20\t0.33\t1.00\t0.33\t0.20\t0.50\t0.65\tFalse\n"
     ]
    }
   ],
   "source": [
    "print(\"{:18}\\t{:17}\\t{:5}\\t{:5}\\t{:5}\\t{:5}\\t{:5}\\t{:5}\\t{:5}\\t{:5}\\t{:6}\"\n",
    "      .format(\"Name1\",\"Name2\",\"JW\",\"Lev\",\"FSort\",\"FPar\",\"sStr\",\"sSeq\",\"Soun\",\"Comb\",\"G'nuf\"))\n",
    "\n",
    "pp_distance(\"Omer Ahmed\", \"Omer Ahmed\")\n",
    "pp_distance(\"Omer Ahmed\", \"Omer Ahmd\")\n",
    "pp_distance(\"Omer Ahmed\", \"Omer Ahxx\")\n",
    "pp_distance(\"Omer Ahmed\", \"Omer Axxx\")\n",
    "pp_distance(\"Omer Ahmed\", \"Omer xxxx\")\n",
    "print()\n",
    "pp_distance(\"Omer Ahmed\", \"Dr Omer Duxx\")\n",
    "pp_distance(\"Omer Ahmed\", \"Omerxxumm\")\n",
    "pp_distance(\"Omer Ahmed\", \"Omer xxxxxxxxx Duxx\")\n",
    "pp_distance(\"Omer Ahmed\", \"OXmXeXr AXhXmXeXd\")\n",
    "pp_distance(\"Omer Ahmed\", \"Duxx Omer\")\n",
    "print()\n",
    "pp_distance(\"Omer Ahmed\", \"Omer\")\n",
    "pp_distance(\"Omer Ahmed\", \"Ome\")\n",
    "pp_distance(\"Omer Ahmed\", \"Om\")"
   ]
  },
  {
   "cell_type": "code",
   "execution_count": 18,
   "metadata": {},
   "outputs": [
    {
     "data": {
      "text/plain": [
       "0.5"
      ]
     },
     "execution_count": 18,
     "metadata": {},
     "output_type": "execute_result"
    }
   ],
   "source": [
    "5./len(\"Omer Ahmed\")"
   ]
  }
 ],
 "metadata": {
  "kernelspec": {
   "display_name": "Python 3",
   "language": "python",
   "name": "python3"
  },
  "language_info": {
   "codemirror_mode": {
    "name": "ipython",
    "version": 3
   },
   "file_extension": ".py",
   "mimetype": "text/x-python",
   "name": "python",
   "nbconvert_exporter": "python",
   "pygments_lexer": "ipython3",
   "version": "3.6.8"
  }
 },
 "nbformat": 4,
 "nbformat_minor": 2
}
